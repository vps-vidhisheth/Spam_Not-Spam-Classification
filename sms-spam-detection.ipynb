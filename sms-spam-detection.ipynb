{
 "cells": [
  {
   "cell_type": "code",
   "execution_count": 14,
   "id": "c44f7915-ef96-4262-aeb6-cf93d745b6aa",
   "metadata": {},
   "outputs": [
    {
     "name": "stdout",
     "output_type": "stream",
     "text": [
      "     v1                                                 v2 Unnamed: 2  \\\n",
      "0   ham  Go until jurong point, crazy.. Available only ...        NaN   \n",
      "1   ham                      Ok lar... Joking wif u oni...        NaN   \n",
      "2  spam  Free entry in 2 a wkly comp to win FA Cup fina...        NaN   \n",
      "3   ham  U dun say so early hor... U c already then say...        NaN   \n",
      "4   ham  Nah I don't think he goes to usf, he lives aro...        NaN   \n",
      "\n",
      "  Unnamed: 3 Unnamed: 4  \n",
      "0        NaN        NaN  \n",
      "1        NaN        NaN  \n",
      "2        NaN        NaN  \n",
      "3        NaN        NaN  \n",
      "4        NaN        NaN  \n",
      "Index(['v1', 'v2', 'Unnamed: 2', 'Unnamed: 3', 'Unnamed: 4'], dtype='object')\n"
     ]
    }
   ],
   "source": [
    "import pandas as pd\n",
    "\n",
    "# Load the data\n",
    "df = pd.read_csv('spam.csv', encoding='latin1')\n",
    "\n",
    "# Print the first few rows to inspect the structure\n",
    "print(df.head())\n",
    "\n",
    "# Print the columns to understand the structure\n",
    "print(df.columns)\n"
   ]
  },
  {
   "cell_type": "code",
   "execution_count": 15,
   "id": "2572588e-d290-47ea-a295-a1ee07d04a75",
   "metadata": {},
   "outputs": [
    {
     "name": "stdout",
     "output_type": "stream",
     "text": [
      "Model and vectorizer saved successfully.\n"
     ]
    }
   ],
   "source": [
    "import pandas as pd\n",
    "from sklearn.feature_extraction.text import CountVectorizer\n",
    "from sklearn.naive_bayes import MultinomialNB\n",
    "import pickle\n",
    "\n",
    "# Step 1: Load Data\n",
    "df = pd.read_csv('spam.csv', encoding='latin1')\n",
    "\n",
    "# Step 2: Select Relevant Columns and Rename Them\n",
    "df = df[['v1', 'v2']]  # Select only the relevant columns\n",
    "df.columns = ['label', 'message']  # Rename columns for clarity\n",
    "\n",
    "# Step 3: Map Labels to Binary Values\n",
    "df['label'] = df['label'].map({'ham': 0, 'spam': 1})\n",
    "\n",
    "# Step 4: Prepare the Data\n",
    "X = df['message']\n",
    "y = df['label']\n",
    "\n",
    "# Step 5: Vectorize the Text Data\n",
    "vectorizer = CountVectorizer()\n",
    "X_vectorized = vectorizer.fit_transform(X)\n",
    "\n",
    "# Step 6: Train the Model\n",
    "model = MultinomialNB()\n",
    "model.fit(X_vectorized, y)\n",
    "\n",
    "# Step 7: Save the Model and Vectorizer\n",
    "with open('model.pkl', 'wb') as model_file:\n",
    "    pickle.dump(model, model_file)\n",
    "\n",
    "with open('vectorizer.pkl', 'wb') as vectorizer_file:\n",
    "    pickle.dump(vectorizer, vectorizer_file)\n",
    "\n",
    "print(\"Model and vectorizer saved successfully.\")\n"
   ]
  },
  {
   "cell_type": "code",
   "execution_count": 16,
   "id": "f625a48b-5b2b-4d2f-8114-f4bc39b5717b",
   "metadata": {},
   "outputs": [
    {
     "name": "stdout",
     "output_type": "stream",
     "text": [
      "Prediction: Spam\n"
     ]
    }
   ],
   "source": [
    "import pickle\n",
    "from sklearn.feature_extraction.text import CountVectorizer\n",
    "\n",
    "# Step 8: Load the Model and Vectorizer\n",
    "with open('model.pkl', 'rb') as model_file:\n",
    "    model = pickle.load(model_file)\n",
    "\n",
    "with open('vectorizer.pkl', 'rb') as vectorizer_file:\n",
    "    vectorizer = pickle.load(vectorizer_file)\n",
    "\n",
    "# Step 9: Make Predictions\n",
    "sample_text = [\"Free entry in 2 a wkly comp to win FA Cup fina...\"]\n",
    "vector_input = vectorizer.transform(sample_text)\n",
    "result = model.predict(vector_input)[0]\n",
    "\n",
    "print(\"Prediction:\", \"Spam\" if result else \"Not Spam\")\n"
   ]
  },
  {
   "cell_type": "code",
   "execution_count": 17,
   "id": "5eb79788-6257-4f46-b98f-5eb2075495ad",
   "metadata": {},
   "outputs": [
    {
     "name": "stdout",
     "output_type": "stream",
     "text": [
      "Prediction: Not Spam\n"
     ]
    }
   ],
   "source": [
    "sample_text = [\"Dear Vidhi Sheth, Hope you're doing well! Exciting career move! Deloitte is recruiting Process Analyst with competitive salary options\"]\n",
    "vector_input = vectorizer.transform(sample_text)\n",
    "result = model.predict(vector_input)[0]\n",
    "\n",
    "print(\"Prediction:\", \"Spam\" if result else \"Not Spam\")\n"
   ]
  },
  {
   "cell_type": "code",
   "execution_count": 18,
   "id": "af368bcd-e635-4c35-9812-5b4553d8a477",
   "metadata": {},
   "outputs": [
    {
     "name": "stdout",
     "output_type": "stream",
     "text": [
      "Prediction: Not Spam\n"
     ]
    }
   ],
   "source": [
    "sample_text = [\"Welcome to TechVarsity: The next big thing in tech education\"]\n",
    "vector_input = vectorizer.transform(sample_text)\n",
    "result = model.predict(vector_input)[0]\n",
    "\n",
    "print(\"Prediction:\", \"Spam\" if result else \"Not Spam\")"
   ]
  },
  {
   "cell_type": "code",
   "execution_count": 19,
   "id": "c5bc0725-5218-4997-9990-88e04d8e54d2",
   "metadata": {},
   "outputs": [
    {
     "name": "stdout",
     "output_type": "stream",
     "text": [
      "Prediction: Not Spam\n"
     ]
    }
   ],
   "source": [
    "sample_text = [\"Did You see the match? It was insane.\"]\n",
    "vector_input = vectorizer.transform(sample_text)\n",
    "result = model.predict(vector_input)[0]\n",
    "\n",
    "print(\"Prediction:\", \"Spam\" if result else \"Not Spam\")"
   ]
  },
  {
   "cell_type": "code",
   "execution_count": 20,
   "id": "9a741e67-fc4a-4bb8-b68b-3db35d5c95bf",
   "metadata": {},
   "outputs": [
    {
     "name": "stdout",
     "output_type": "stream",
     "text": [
      "Prediction: Not Spam\n"
     ]
    }
   ],
   "source": [
    "sample_text = [\"I love you. Do you love me ?\"]\n",
    "vector_input = vectorizer.transform(sample_text)\n",
    "result = model.predict(vector_input)[0]\n",
    "\n",
    "print(\"Prediction:\", \"Spam\" if result else \"Not Spam\")"
   ]
  },
  {
   "cell_type": "code",
   "execution_count": 21,
   "id": "594d8c3d-5621-40e2-8c86-ecae62f7c787",
   "metadata": {},
   "outputs": [
    {
     "name": "stdout",
     "output_type": "stream",
     "text": [
      "Prediction: Spam\n"
     ]
    }
   ],
   "source": [
    "sample_text = [\"Accident Compensation. Yo have still not claim the compensation you are due for the accident you had. To start thed process please reply yes. To opt out reply stop.\"]\n",
    "vector_input = vectorizer.transform(sample_text)\n",
    "result = model.predict(vector_input)[0]\n",
    "\n",
    "print(\"Prediction:\", \"Spam\" if result else \"Not Spam\")"
   ]
  },
  {
   "cell_type": "code",
   "execution_count": null,
   "id": "a36a3173",
   "metadata": {},
   "outputs": [],
   "source": []
  }
 ],
 "metadata": {
  "kernelspec": {
   "display_name": "Python 3 (ipykernel)",
   "language": "python",
   "name": "python3"
  },
  "language_info": {
   "codemirror_mode": {
    "name": "ipython",
    "version": 3
   },
   "file_extension": ".py",
   "mimetype": "text/x-python",
   "name": "python",
   "nbconvert_exporter": "python",
   "pygments_lexer": "ipython3",
   "version": "3.12.3"
  }
 },
 "nbformat": 4,
 "nbformat_minor": 5
}
